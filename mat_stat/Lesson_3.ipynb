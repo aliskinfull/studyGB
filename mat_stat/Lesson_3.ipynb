{
 "cells": [
  {
   "cell_type": "markdown",
   "metadata": {},
   "source": [
    "## Даны значения зарплат из выборки выпускников: 100, 80, 75, 77, 89, 33, 45, 25, 65, 17, 30, 24, 57, 55, 70, 75, 65, 84, 90, 150. Посчитать (желательно без использования статистических методов наподобие std, var, mean) среднее арифметическое, среднее квадратичное отклонение, смещенную и несмещенную оценки дисперсий для данной выборки.\n"
   ]
  },
  {
   "cell_type": "code",
   "execution_count": 15,
   "metadata": {},
   "outputs": [],
   "source": [
    "import numpy as np\n",
    "import pandas as pd\n",
    "import matplotlib.pyplot as plt\n",
    "import warnings\n",
    "from math import factorial\n",
    "def combinations(n, k):\n",
    "    return int(factorial(n) / (factorial(k) * factorial(n - k)))\n",
    "\n",
    "warnings.filterwarnings('ignore')\n"
   ]
  },
  {
   "cell_type": "code",
   "execution_count": 16,
   "metadata": {},
   "outputs": [
    {
     "data": {
      "text/plain": [
       "array([100,  80,  75,  77,  89,  33,  45,  25,  65,  17,  30,  24,  57,\n",
       "        55,  70,  75,  65,  84,  90, 150])"
      ]
     },
     "execution_count": 16,
     "metadata": {},
     "output_type": "execute_result"
    }
   ],
   "source": [
    "salary = np.array([100, 80, 75, 77, 89, 33, 45, 25, 65, 17, 30, 24, 57, 55, 70, 75, 65, 84, 90, 150])\n",
    "salary"
   ]
  },
  {
   "cell_type": "code",
   "execution_count": 17,
   "metadata": {},
   "outputs": [
    {
     "name": "stdout",
     "output_type": "stream",
     "text": [
      "Среднее арифметическое -  65.3\n"
     ]
    }
   ],
   "source": [
    "salary_heigth = salary.sum()/salary.size\n",
    "print('Среднее арифметическое - ',salary_heigth)"
   ]
  },
  {
   "cell_type": "code",
   "execution_count": 18,
   "metadata": {},
   "outputs": [
    {
     "name": "stdout",
     "output_type": "stream",
     "text": [
      "СКО -  30.823854398825596\n"
     ]
    }
   ],
   "source": [
    "sko = np.sqrt(((salary- salary_heigth)**2).sum() / salary.size)\n",
    "print('СКО - ',sko)"
   ]
  },
  {
   "cell_type": "code",
   "execution_count": 19,
   "metadata": {},
   "outputs": [
    {
     "name": "stdout",
     "output_type": "stream",
     "text": [
      "dispersion -  950.11\n",
      "Проверка dispersion -  950.11\n"
     ]
    }
   ],
   "source": [
    "dispersion = ((salary- salary_heigth)**2).sum() / salary.size\n",
    "print('dispersion - ',dispersion)\n",
    "print('Проверка dispersion - ',salary.var())"
   ]
  },
  {
   "cell_type": "code",
   "execution_count": 20,
   "metadata": {},
   "outputs": [
    {
     "name": "stdout",
     "output_type": "stream",
     "text": [
      "dispersion_n -  1000.1157894736842\n",
      "Проверка dispersion_n -  1000.1157894736842\n"
     ]
    }
   ],
   "source": [
    "dispersion_n = ((salary- salary_heigth)**2).sum() / (salary.size-1)\n",
    "print('dispersion_n - ',dispersion_n)\n",
    "print('Проверка dispersion_n - ',salary.var(ddof=1))"
   ]
  },
  {
   "cell_type": "markdown",
   "metadata": {},
   "source": [
    "## В первом ящике находится 8 мячей, из которых 5 - белые. Во втором ящике - 12 мячей, из которых 5 белых. Из первого ящика вытаскивают случайным образом два мяча, из второго - 4. Какова вероятность того, что 3 мяча белые?"
   ]
  },
  {
   "cell_type": "markdown",
   "metadata": {},
   "source": [
    "Для решения рассмотрим все интересующие нас случаи:\n",
    "1) из первого ящика вытащили 0 белых, из второго 3 белых\n",
    "2) из первого ящика вытащили 1 белый, из второго два белых\n",
    "3) из первого ящика вытащили 2 белых, из второго 1\n",
    "    "
   ]
  },
  {
   "cell_type": "code",
   "execution_count": 26,
   "metadata": {},
   "outputs": [
    {
     "name": "stdout",
     "output_type": "stream",
     "text": [
      "0.10714285714285714\n",
      "0.1414141414141414\n",
      "0.5357142857142857\n",
      "0.42424242424242425\n",
      "0.35714285714285715\n",
      "0.35353535353535354\n",
      "Ответ: вероятность что 3 мяча белых - 0.3686868686868687\n"
     ]
    }
   ],
   "source": [
    "#достать из 1 корзины 0 белых\n",
    "C1=combinations(3,2)\n",
    "C2 = combinations(5,0)\n",
    "C3 = combinations(8,2)\n",
    "Pk1beliy0 = (C1*C2)/C3\n",
    "print(Pk1beliy0)\n",
    "#достать из 2 корзины 3 белых\n",
    "C1=combinations(5,3)\n",
    "C2 = combinations(7,1)\n",
    "C3 = combinations(12,4)\n",
    "Pk2beliy3 = (C1*C2)/C3\n",
    "print(Pk2beliy3)\n",
    "\n",
    "\n",
    "#достать из 1 корзины 1 белых\n",
    "C1=combinations(3,1)\n",
    "C2 = combinations(5,1)\n",
    "C3 = combinations(8,2)\n",
    "Pk1beliy1 = (C1*C2)/C3\n",
    "print(Pk1beliy1)\n",
    "#достать из 2 корзины 2 белых\n",
    "C1=combinations(5,2)\n",
    "C2 = combinations(7,2)\n",
    "C3 = combinations(12,4)\n",
    "Pk2beliy2 = (C1*C2)/C3\n",
    "print(Pk2beliy2)\n",
    "\n",
    "\n",
    "#достать из 1 корзины 2 белых\n",
    "C1=combinations(3,0)\n",
    "C2 = combinations(5,2)\n",
    "C3 = combinations(8,2)\n",
    "Pk1beliy2 = (C1*C2)/C3\n",
    "print(Pk1beliy2)\n",
    "#достать из 2 корзины 1 белых\n",
    "C1=combinations(5,1)\n",
    "C2 = combinations(7,3)\n",
    "C3 = combinations(12,4)\n",
    "Pk2beliy1 = (C1*C2)/C3\n",
    "print(Pk2beliy1)\n",
    "\n",
    "\n",
    "print('Ответ: вероятность что 3 мяча белых -',Pk1beliy0*Pk2beliy3 + Pk1beliy1*Pk2beliy2 + Pk1beliy2*Pk2beliy1)\n"
   ]
  },
  {
   "cell_type": "markdown",
   "metadata": {},
   "source": [
    "## На соревновании по биатлону один из трех спортсменов стреляет и попадает в мишень. Вероятность попадания для первого спортсмена равна 0.9, для второго — 0.8, для третьего — 0.6. Найти вероятность того, что выстрел произведен: a). первым спортсменом б). вторым спортсменом в). третьим спортсменом."
   ]
  },
  {
   "cell_type": "code",
   "execution_count": 30,
   "metadata": {},
   "outputs": [
    {
     "data": {
      "text/plain": [
       "0.7666666666666666"
      ]
     },
     "execution_count": 30,
     "metadata": {},
     "output_type": "execute_result"
    }
   ],
   "source": [
    "pA= 1/3 *0.9 + 1/3*0.8 + 1/3*0.6\n",
    "pA"
   ]
  },
  {
   "cell_type": "code",
   "execution_count": 33,
   "metadata": {},
   "outputs": [
    {
     "name": "stdout",
     "output_type": "stream",
     "text": [
      "Вероятность, что выстрел произведен 1 спортсменом: 0.391304347826087\n",
      "Вероятность, что выстрел произведен 2 спортсменом: 0.3478260869565218\n",
      "Вероятность, что выстрел произведен 3 спортсменом: 0.2608695652173913\n"
     ]
    }
   ],
   "source": [
    "print('Вероятность, что выстрел произведен 1 спортсменом:', (1/3*0.9)/pA)\n",
    "print('Вероятность, что выстрел произведен 2 спортсменом:', (1/3*0.8)/pA)\n",
    "print('Вероятность, что выстрел произведен 3 спортсменом:', (1/3*0.6)/pA)"
   ]
  },
  {
   "cell_type": "markdown",
   "metadata": {},
   "source": [
    "## В университет на факультеты A и B поступило равное количество студентов, а на факультет C студентов поступило столько же, сколько на A и B вместе. Вероятность того, что студент факультета A сдаст первую сессию, равна 0.8. Для студента факультета B эта вероятность равна 0.7, а для студента факультета C - 0.9. Студент сдал первую сессию. Какова вероятность, что он учится: a). на факультете A б). на факультете B в). на факультете C?"
   ]
  },
  {
   "cell_type": "markdown",
   "metadata": {},
   "source": [
    "Вероятность быть студентом А или B факультета 1/4, а вероятность С 2/4 в сумме 1"
   ]
  },
  {
   "cell_type": "code",
   "execution_count": 36,
   "metadata": {},
   "outputs": [
    {
     "data": {
      "text/plain": [
       "0.825"
      ]
     },
     "execution_count": 36,
     "metadata": {},
     "output_type": "execute_result"
    }
   ],
   "source": [
    "pA= 1/4 *0.8 + 1/4*0.7 + 2/4*0.9\n",
    "pA"
   ]
  },
  {
   "cell_type": "code",
   "execution_count": 38,
   "metadata": {},
   "outputs": [
    {
     "name": "stdout",
     "output_type": "stream",
     "text": [
      "Вероятность, что студент учится на факультете А: 0.24242424242424246\n",
      "Вероятность, что студент учится на факультете B: 0.21212121212121213\n",
      "Вероятность, что студент учится на факультете C: 0.5454545454545455\n"
     ]
    }
   ],
   "source": [
    "print('Вероятность, что студент учится на факультете А:', (1/4*0.8)/pA)\n",
    "print('Вероятность, что студент учится на факультете B:', (1/4*0.7)/pA)\n",
    "print('Вероятность, что студент учится на факультете C:', (2/4*0.9)/pA)"
   ]
  },
  {
   "cell_type": "markdown",
   "metadata": {},
   "source": [
    "## Устройство состоит из трех деталей. Для первой детали вероятность выйти из строя в первый месяц равна 0.1, для второй - 0.2, для третьей - 0.25. Какова вероятность того, что в первый месяц выйдут из строя: а). все детали б). только две детали в). хотя бы одна деталь г). от одной до двух деталей?"
   ]
  },
  {
   "cell_type": "code",
   "execution_count": 40,
   "metadata": {},
   "outputs": [
    {
     "name": "stdout",
     "output_type": "stream",
     "text": [
      "Вероятность, что выйдут из строя все детали 0.005000000000000001\n"
     ]
    }
   ],
   "source": [
    "print('Вероятность, что выйдут из строя все детали', 0.1*0.2*0.25)"
   ]
  },
  {
   "cell_type": "code",
   "execution_count": 45,
   "metadata": {},
   "outputs": [
    {
     "name": "stdout",
     "output_type": "stream",
     "text": [
      "Вероятность, что выйдут из строя только две детали(выйдет первая и вторая,а третья не выйдет и т.д) 0.08000000000000002\n"
     ]
    }
   ],
   "source": [
    "print('Вероятность, что выйдут из строя только две детали(выйдет первая и вторая,а третья не выйдет и т.д)', \n",
    "      0.1*0.2*0.75 + 0.1*0.8*0.25 + 0.9*0.2*0.25)"
   ]
  },
  {
   "cell_type": "code",
   "execution_count": 46,
   "metadata": {},
   "outputs": [
    {
     "name": "stdout",
     "output_type": "stream",
     "text": [
      "Вероятность, что хотя бы 1 деталь (1- что все не выйдут) 0.45999999999999996\n"
     ]
    }
   ],
   "source": [
    "print('Вероятность, что хотя бы 1 деталь (1- что все не выйдут)', \n",
    "      1- (0.9*0.8*0.75))"
   ]
  },
  {
   "cell_type": "code",
   "execution_count": 47,
   "metadata": {},
   "outputs": [
    {
     "name": "stdout",
     "output_type": "stream",
     "text": [
      "Вероятность, что выйдут из строя от 1 до 2 деталей (сумма вероятностей что выйдет только 1 и выйдет только 2) 0.45500000000000007\n"
     ]
    }
   ],
   "source": [
    "print('Вероятность, что выйдут из строя от 1 до 2 деталей (сумма вероятностей что выйдет только 1 и выйдет только 2)', \n",
    "     (0.1*0.8*0.75 + 0.9*0.8*0.25 + 0.9*0.2*0.75) + (0.1*0.2*0.75 + 0.1*0.8*0.25 + 0.9*0.2*0.25))"
   ]
  },
  {
   "cell_type": "code",
   "execution_count": null,
   "metadata": {},
   "outputs": [],
   "source": []
  }
 ],
 "metadata": {
  "kernelspec": {
   "display_name": "Python 3",
   "language": "python",
   "name": "python3"
  },
  "language_info": {
   "codemirror_mode": {
    "name": "ipython",
    "version": 3
   },
   "file_extension": ".py",
   "mimetype": "text/x-python",
   "name": "python",
   "nbconvert_exporter": "python",
   "pygments_lexer": "ipython3",
   "version": "3.8.5"
  }
 },
 "nbformat": 4,
 "nbformat_minor": 4
}

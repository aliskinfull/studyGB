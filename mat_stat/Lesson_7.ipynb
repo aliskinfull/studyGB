{
 "cells": [
  {
   "cell_type": "markdown",
   "metadata": {},
   "source": [
    "1. Даны значения величины заработной платы заемщиков банка (zp) и значения их поведенческого кредитного скоринга (ks): zp = [35, 45, 190, 200, 40, 70, 54, 150, 120, 110], ks = [401, 574, 874, 919, 459, 739, 653, 902, 746, 832]. Используя математические операции, посчитать коэффициенты линейной регрессии, приняв за X заработную плату (то есть, zp - признак), а за y - значения скорингового балла (то есть, ks - целевая переменная). Произвести расчет как с использованием intercept, так и без."
   ]
  },
  {
   "cell_type": "code",
   "execution_count": 1,
   "metadata": {},
   "outputs": [],
   "source": [
    "import pandas as pd\n",
    "import numpy as np\n",
    "import matplotlib.pyplot as plt\n",
    "\n",
    "%matplotlib inline\n",
    "\n",
    "df = pd.DataFrame({'zp': [35, 45, 190, 200, 40, 70, 54, 150, 120, 110],\\\n",
    "                   'ks': [401, 574, 874, 919, 459, 739, 653, 902, 746, 832]})"
   ]
  },
  {
   "cell_type": "code",
   "execution_count": 4,
   "metadata": {},
   "outputs": [
    {
     "name": "stdout",
     "output_type": "stream",
     "text": [
      "y = 444.1773573243596 + 2.620538882402765x\n"
     ]
    }
   ],
   "source": [
    "b = (np.mean(df.zp * df.ks) - np.mean(df.zp) * np.mean(df.ks)) / (np.mean(df.zp**2) - np.mean(df.zp) ** 2)\n",
    "a = np.mean(df.ks) - b * np.mean(df.zp)\n",
    "print(f'y = {a} + {b}x')"
   ]
  },
  {
   "cell_type": "code",
   "execution_count": 5,
   "metadata": {},
   "outputs": [
    {
     "data": {
      "text/plain": [
       "[<matplotlib.lines.Line2D at 0x24cce842af0>]"
      ]
     },
     "execution_count": 5,
     "metadata": {},
     "output_type": "execute_result"
    },
    {
     "data": {
      "image/png": "[encoded data removed]",
      "text/plain": [
       "<Figure size 432x288 with 1 Axes>"
      ]
     },
     "metadata": {
      "needs_background": "light"
     },
     "output_type": "display_data"
    }
   ],
   "source": [
    "plt.scatter(df.zp, df.ks)\n",
    "t = np.arange(0, 200, 1)\n",
    "v = a + b * t\n",
    "plt.plot(t, v, color='r')"
   ]
  },
  {
   "cell_type": "code",
   "execution_count": 6,
   "metadata": {},
   "outputs": [],
   "source": [
    "X = df.zp.values.reshape((10,1))\n",
    "y = df.ks.values.reshape((10,1))"
   ]
  },
  {
   "cell_type": "code",
   "execution_count": 8,
   "metadata": {},
   "outputs": [
    {
     "data": {
      "text/plain": [
       "array([[5.88982042]])"
      ]
     },
     "execution_count": 8,
     "metadata": {},
     "output_type": "execute_result"
    }
   ],
   "source": [
    "np.linalg.inv(X.T @ X) @ X.T @ y"
   ]
  },
  {
   "cell_type": "code",
   "execution_count": 9,
   "metadata": {},
   "outputs": [],
   "source": [
    "X = df.zp.values.reshape((10,1))\n",
    "X = np.hstack([np.ones((10, 1)), X])\n",
    "y = df.ks.values.reshape((10,1))"
   ]
  },
  {
   "cell_type": "code",
   "execution_count": 10,
   "metadata": {},
   "outputs": [
    {
     "data": {
      "text/plain": [
       "array([[444.17735732],\n",
       "       [  2.62053888]])"
      ]
     },
     "execution_count": 10,
     "metadata": {},
     "output_type": "execute_result"
    }
   ],
   "source": [
    "np.linalg.inv(X.T @ X) @ X.T @ y"
   ]
  },
  {
   "cell_type": "markdown",
   "metadata": {},
   "source": [
    "2. Посчитать коэффициент линейной регрессии при заработной плате (zp), используя градиентный спуск (без intercept). *"
   ]
  },
  {
   "cell_type": "code",
   "execution_count": 14,
   "metadata": {},
   "outputs": [],
   "source": [
    "X = df.zp.values\n",
    "y = df.ks.values"
   ]
  },
  {
   "cell_type": "code",
   "execution_count": 15,
   "metadata": {},
   "outputs": [
    {
     "name": "stdout",
     "output_type": "stream",
     "text": [
      "y = 5.8897853464590435 * x. Коэффициент найден за 430 итераций, с точностью 1e-06.\n"
     ]
    }
   ],
   "source": [
    "w1 = 0.1\n",
    "alpha = 1e-6\n",
    "epsilon = 1\n",
    "n = X.shape[0]\n",
    "i = 0\n",
    "\n",
    "while abs(epsilon) > alpha:\n",
    "    w_prev = w1\n",
    "    w1 -= alpha * (2/n) * np.sum((w1 * X - y) * X)\n",
    "    epsilon = w_prev - w1\n",
    "    i += 1\n",
    "\n",
    "print(f'y = {w1} * x. Коэффициент найден за {i} итераций, с точностью {alpha}.')"
   ]
  },
  {
   "cell_type": "code",
   "execution_count": 16,
   "metadata": {},
   "outputs": [
    {
     "data": {
      "text/plain": [
       "[<matplotlib.lines.Line2D at 0x24ccf023280>]"
      ]
     },
     "execution_count": 16,
     "metadata": {},
     "output_type": "execute_result"
    },
    {
     "data": {
      "image/png": "[encoded data removed]",
      "text/plain": [
       "<Figure size 432x288 with 1 Axes>"
      ]
     },
     "metadata": {
      "needs_background": "light"
     },
     "output_type": "display_data"
    }
   ],
   "source": [
    "plt.scatter(df.zp, df.ks)\n",
    "t = np.arange(0, 200, 1)\n",
    "v = w1 * t\n",
    "plt.plot(t, v, color='r')"
   ]
  },
  {
   "cell_type": "markdown",
   "metadata": {},
   "source": [
    "3. Произвести вычисления как в пункте 2, но с вычислением intercept. Учесть, что изменение коэффициентов должно производиться на каждом шаге одновременно (то есть изменение одного коэффициента не должно влиять на изменение другого во время одной итерации)."
   ]
  },
  {
   "cell_type": "code",
   "execution_count": 17,
   "metadata": {},
   "outputs": [
    {
     "name": "stdout",
     "output_type": "stream",
     "text": [
      "y = 442.2061503441162 + 2.635047837298424 * x. Коэффициент найден за 179563 итераций, с точностью 1e-06.\n"
     ]
    }
   ],
   "source": [
    "w0 = 442\n",
    "w1 = 0.1\n",
    "alpha = 1e-6\n",
    "epsilon0 = 1\n",
    "epsilon1 = 1\n",
    "n = X.shape[0]\n",
    "i = 0\n",
    "\n",
    "while abs(epsilon0) > alpha or abs(epsilon1) > alpha:\n",
    "    w0_prev = w0\n",
    "    w1_prev = w1\n",
    "    w1 -= alpha * (2/n) * np.sum((w0 + w1 * X - y) * X)\n",
    "    w0 -= alpha * (2/n) * np.sum((w0 + w1 * X - y))\n",
    "    epsilon0 = w0_prev - w0\n",
    "    epsilon1 = w1_prev - w1\n",
    "    i += 1\n",
    "\n",
    "print(f'y = {w0} + {w1} * x. Коэффициент найден за {i} итераций, с точностью {alpha}.')"
   ]
  },
  {
   "cell_type": "code",
   "execution_count": 18,
   "metadata": {},
   "outputs": [
    {
     "data": {
      "text/plain": [
       "[<matplotlib.lines.Line2D at 0x24ccf0873d0>]"
      ]
     },
     "execution_count": 18,
     "metadata": {},
     "output_type": "execute_result"
    },
    {
     "data": {
      "image/png": "[encoded data removed]",
      "text/plain": [
       "<Figure size 432x288 with 1 Axes>"
      ]
     },
     "metadata": {
      "needs_background": "light"
     },
     "output_type": "display_data"
    }
   ],
   "source": [
    "plt.scatter(df.zp, df.ks)\n",
    "t = np.arange(0, 200, 1)\n",
    "v = w0 + w1 * t\n",
    "plt.plot(t, v, color='r')"
   ]
  },
  {
   "cell_type": "code",
   "execution_count": null,
   "metadata": {},
   "outputs": [],
   "source": []
  }
 ],
 "metadata": {
  "kernelspec": {
   "display_name": "Python 3",
   "language": "python",
   "name": "python3"
  },
  "language_info": {
   "codemirror_mode": {
    "name": "ipython",
    "version": 3
   },
   "file_extension": ".py",
   "mimetype": "text/x-python",
   "name": "python",
   "nbconvert_exporter": "python",
   "pygments_lexer": "ipython3",
   "version": "3.8.5"
  }
 },
 "nbformat": 4,
 "nbformat_minor": 4
}

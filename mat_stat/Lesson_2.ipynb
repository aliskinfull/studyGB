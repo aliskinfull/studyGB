{
 "cells": [
  {
   "cell_type": "markdown",
   "metadata": {},
   "source": [
    "Вероятность того, что стрелок попадет в мишень, выстрелив один раз, равна 0.8. Стрелок выстрелил 100 раз. Найдите вероятность того, что стрелок попадет в цель ровно 85 раз."
   ]
  },
  {
   "cell_type": "code",
   "execution_count": 11,
   "metadata": {},
   "outputs": [],
   "source": [
    "import numpy as np\n",
    "from math import factorial\n",
    "def combinations(n, k):\n",
    "    return int(factorial(n) / (factorial(k) * factorial(n - k)))\n",
    "\n",
    "def bern(p, n, k):\n",
    "    return combinations(n,k) * p**(k) * (1 - p)**(n - k)\n",
    "\n",
    "def puas(l,m):\n",
    "    return l**m/f(m)*np.exp(-l)"
   ]
  },
  {
   "cell_type": "code",
   "execution_count": 12,
   "metadata": {},
   "outputs": [],
   "source": [
    "P = bern (0.8, 100, 85)"
   ]
  },
  {
   "cell_type": "code",
   "execution_count": 13,
   "metadata": {},
   "outputs": [
    {
     "data": {
      "text/plain": [
       "0.048061793700746355"
      ]
     },
     "execution_count": 13,
     "metadata": {},
     "output_type": "execute_result"
    }
   ],
   "source": [
    "P"
   ]
  },
  {
   "cell_type": "markdown",
   "metadata": {},
   "source": [
    "Вероятность того, что лампочка перегорит в течение первого дня эксплуатации, равна 0.0004. В жилом комплексе после ремонта в один день включили 5000 новых лампочек. Какова вероятность, что ни одна из них не перегорит в первый день? Какова вероятность, что перегорят ровно две?"
   ]
  },
  {
   "cell_type": "markdown",
   "metadata": {},
   "source": [
    "найдем l(лямбда) для распределения Пуасоона"
   ]
  },
  {
   "cell_type": "code",
   "execution_count": 14,
   "metadata": {},
   "outputs": [],
   "source": [
    "l = 5000*0.0004"
   ]
  },
  {
   "cell_type": "code",
   "execution_count": 15,
   "metadata": {},
   "outputs": [
    {
     "data": {
      "text/plain": [
       "0.1353352832366127"
      ]
     },
     "execution_count": 15,
     "metadata": {},
     "output_type": "execute_result"
    }
   ],
   "source": [
    "P0 = puas(l,0)\n",
    "P0"
   ]
  },
  {
   "cell_type": "code",
   "execution_count": 16,
   "metadata": {},
   "outputs": [
    {
     "data": {
      "text/plain": [
       "0.2706705664732254"
      ]
     },
     "execution_count": 16,
     "metadata": {},
     "output_type": "execute_result"
    }
   ],
   "source": [
    "P2 = puas(l,2)\n",
    "P2"
   ]
  },
  {
   "cell_type": "markdown",
   "metadata": {},
   "source": [
    "Монету подбросили 144 раза. Какова вероятность, что орел выпадет ровно 70 раз?"
   ]
  },
  {
   "cell_type": "code",
   "execution_count": 17,
   "metadata": {},
   "outputs": [],
   "source": [
    "Porel = bern (0.5, 144, 70)"
   ]
  },
  {
   "cell_type": "code",
   "execution_count": 18,
   "metadata": {},
   "outputs": [
    {
     "data": {
      "text/plain": [
       "0.06281178035144776"
      ]
     },
     "execution_count": 18,
     "metadata": {},
     "output_type": "execute_result"
    }
   ],
   "source": [
    "Porel "
   ]
  },
  {
   "cell_type": "markdown",
   "metadata": {},
   "source": [
    "В первом ящике находится 10 мячей, из которых 7 - белые. Во втором ящике - 11 мячей, из которых 9 белых. Из каждого ящика вытаскивают случайным образом по два мяча. Какова вероятность того, что все мячи белые? Какова вероятность того, что ровно два мяча белые? Какова вероятность того, что хотя бы один мяч белый?"
   ]
  },
  {
   "cell_type": "code",
   "execution_count": 49,
   "metadata": {},
   "outputs": [
    {
     "name": "stdout",
     "output_type": "stream",
     "text": [
      "Ответ:Вероятность что все мячи белые: 0.3054545454545455\n"
     ]
    }
   ],
   "source": [
    "#достать из 1 корзины два белых\n",
    "C1=combinations(7,2)\n",
    "C2 = combinations(3,0)\n",
    "C3 = combinations(10,2)\n",
    "Pk1beliy2 = (C1*C2)/C3\n",
    "\n",
    "#достать из 2 корзины два белых\n",
    "C1=combinations(9,2)\n",
    "C2 = combinations(2,0)\n",
    "C3 = combinations(11,2)\n",
    "Pk2beliy2 = (C1*C2)/C3\n",
    "\n",
    "#достать из 1 корзины два черных\n",
    "C1=combinations(3,2)\n",
    "C2 = combinations(2,0)\n",
    "C3 = combinations(10,2)\n",
    "Pk14erniy2 = (C1*C2)/C3\n",
    "\n",
    "#достать из 2 корзины два черных\n",
    "C1=combinations(2,2)\n",
    "C2 = combinations(2,0)\n",
    "C3 = combinations(11,2)\n",
    "Pk24erniy2 = (C1*C2)/C3\n",
    "\n",
    "#достать из 1 корзины 1 белый\n",
    "C1=combinations(7,1)\n",
    "C2 = combinations(3,1)\n",
    "C3 = combinations(10,2)\n",
    "Pk1beliy1 = (C1*C2)/C3\n",
    "\n",
    "#достать из 2 корзины 1 белый\n",
    "C1=combinations(9,1)\n",
    "C2 = combinations(2,1)\n",
    "C3 = combinations(11,2)\n",
    "Pk2beliy1 = (C1*C2)/C3\n",
    "\n",
    "\n",
    "#так как события независимы, перемножим вероятности Pk1beliy2 и Pk2beliy2\n",
    "\n",
    "print('Ответ:Вероятность что все мячи белые:',Pk1beliy2*Pk2beliy2)"
   ]
  },
  {
   "cell_type": "code",
   "execution_count": 53,
   "metadata": {},
   "outputs": [
    {
     "name": "stdout",
     "output_type": "stream",
     "text": [
      "Ответ:Вероятность что два мяча белых - 0.20484848484848486\n"
     ]
    }
   ],
   "source": [
    "#Вероятность что два белых мяча  это сумма вероятностей что 2 белых из 1 корзины и 2 черных из 2,\n",
    "#2 черных из 1 и 2 белых из 2, и 1 белый из 1 корзины и 1 белый из 2 корзины\n",
    "print('Ответ:Вероятность что два мяча белых -',Pk1beliy2*Pk24erniy2 + Pk2beliy2*Pk14erniy2 + Pk1beliy1*Pk2beliy1)"
   ]
  },
  {
   "cell_type": "code",
   "execution_count": 54,
   "metadata": {},
   "outputs": [
    {
     "name": "stdout",
     "output_type": "stream",
     "text": [
      "Ответ:Вероятность что хотя бы 1 мяч белый - 0.9987878787878788\n"
     ]
    }
   ],
   "source": [
    "#Вероятность что хотя бы 1 белый, это обратная вероятность того что из обеих корзины достали черные шары\n",
    "print('Ответ:Вероятность что хотя бы 1 мяч белый -' ,1- Pk24erniy2*Pk14erniy2)"
   ]
  }
 ],
 "metadata": {
  "kernelspec": {
   "display_name": "Python 3",
   "language": "python",
   "name": "python3"
  },
  "language_info": {
   "codemirror_mode": {
    "name": "ipython",
    "version": 3
   },
   "file_extension": ".py",
   "mimetype": "text/x-python",
   "name": "python",
   "nbconvert_exporter": "python",
   "pygments_lexer": "ipython3",
   "version": "3.8.5"
  }
 },
 "nbformat": 4,
 "nbformat_minor": 4
}
